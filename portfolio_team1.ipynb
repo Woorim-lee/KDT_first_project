{
 "cells": [
  {
   "cell_type": "markdown",
   "id": "417bdf5a",
   "metadata": {},
   "source": [
    "# K-Digital Training 데이터 사이언스/엔지니어링 공공데이터 시각화 PJT\n",
    "`1조` 데이터, 날 이끌어 조 (권미숙 김병석 이우림 천준 **홍효석**)\n",
    "<br>\n",
    "<br>\n",
    "### 전기차 이대로 괜찮은가?\n",
    "<br>\n",
    "<img src=\"https://news.hmgjournal.com/images_n/contents/Next-Gen-EV-Tech1.jpg\" width=400>\n",
    "<br>\n",
    "\n"
   ]
  },
  {
   "cell_type": "markdown",
   "id": "54aed942",
   "metadata": {},
   "source": [
    "* **주제선정 배경**\n",
    "    * 전 세계적으로 친환경 자동차 이슈\n",
    "    * \n",
    "    * \n",
    "    \n",
    "\n",
    "* **프로젝트 목표**\n",
    "    * 한국은 급증하는 전기차를 충분히 커버할 수 있는 인프라가 구축되어 있는가?\n",
    "    * 전기차를 적극 권장하는 한국의 정부는 이에 알맞는 정책을 보여주고 있는가?\n",
    "\n",
    "\n",
    "\n",
    "\n",
    "* **구성원 및 역할**\n",
    "    * 권미숙 : 고속도로 휴게소의 전기차 충전소 현황 분석 및 주유소/휴게소 매출 규모와 충전기수의 상관성 분석\n",
    "    * 김병석 : 전기차와 내연기관차의 경제적 분석 (차량 모델별 구매금액, 보조금, 유지비용, 자동차세 등)\n",
    "    * 이우림 : Youtube 전기자동차전기세 검색량 분석 및 한전 시간대별/계절별 충전 부하량, 시도별 보조금 접수율 분석\n",
    "    * 천준 : 연도별, 세계 국가별 전기자동차 Google 검색량 추이 변화 분석 및 한국의 전기자동차 검색량 추이 분석\n",
    "    * **홍효석(조장)** : 한국의 전기자동차 증가추세 및 전국의 지역별 충전소 현황과 전기차 등록대수 현황 분석"
   ]
  },
  {
   "cell_type": "markdown",
   "id": "bbe54766",
   "metadata": {},
   "source": [
    "---"
   ]
  },
  {
   "cell_type": "markdown",
   "id": "ad8ae385",
   "metadata": {},
   "source": [
    "## 데이터 수집"
   ]
  },
  {
   "cell_type": "code",
   "execution_count": null,
   "id": "edc9b357",
   "metadata": {},
   "outputs": [],
   "source": []
  },
  {
   "cell_type": "markdown",
   "id": "23a88ef4",
   "metadata": {},
   "source": [
    "## 데이터 분석"
   ]
  },
  {
   "cell_type": "code",
   "execution_count": null,
   "id": "b73908a5",
   "metadata": {},
   "outputs": [],
   "source": []
  },
  {
   "cell_type": "markdown",
   "id": "f6140fe4",
   "metadata": {},
   "source": [
    "## 데이터 분석 결과 (시각화)"
   ]
  },
  {
   "cell_type": "code",
   "execution_count": null,
   "id": "04286eb9",
   "metadata": {},
   "outputs": [],
   "source": []
  },
  {
   "cell_type": "markdown",
   "id": "8f5db8d5",
   "metadata": {},
   "source": [
    "---"
   ]
  },
  {
   "cell_type": "markdown",
   "id": "32b047b5",
   "metadata": {},
   "source": [
    "## 기대효과 및 개선사항"
   ]
  },
  {
   "cell_type": "code",
   "execution_count": null,
   "id": "1ed4ee24",
   "metadata": {},
   "outputs": [],
   "source": []
  },
  {
   "cell_type": "markdown",
   "id": "4c7494e7",
   "metadata": {},
   "source": [
    "---"
   ]
  },
  {
   "cell_type": "markdown",
   "id": "8f23fb75",
   "metadata": {},
   "source": [
    "## 개발후기 및 느낀점"
   ]
  },
  {
   "cell_type": "markdown",
   "id": "9a8ef9a9",
   "metadata": {},
   "source": [
    "* 아쉬운 점\n",
    "    * 생각보다 `전기차` 관련 공공데이터가 부족하다고 느꼈음 \n",
    "    * 제공하는 기관별 데이터의 수치가 상이하여, 분석 시 어려움이 있었음\n",
    "    * Django를 이용하여 전기차 vs 내연기관차의 경제성을 분석해볼 수 있는 웹사이트를 구현해보고 싶었지만, 능력적인 한계로 못한 점\n",
    "    * 예측모델(ex:`Logistic Fuction`, `머신러닝`)을 이용하여, 한국의 전기차 증가추세(ex:`한국은 과연 몇년후에 전기차가 내연기관차보다 많아질까?`)를 예측하고 싶었으나, 시간의 한계와 능력치의 한계로 구현해보지 못한 점\n",
    "    \n",
    "    \n",
    "* 느낀점\n",
    "    * 권미숙 :\n",
    "    * 김병석 :\n",
    "    * 이우림 : 혼자 처음부터 실제로 코드를 작성해보고 시각화하면서, 중간중간 크고 작은 어려움이 있었지만 하나씩 찾아가면서 해결해보니 성취감이 정말 높았다. 내가 몰랐던 라이브러리들이 너무 많았고, 앞으로도 이를 적극 활용할 수 있는 능력을 더 키워야겠다. 그냥 지식으로 아는 것과 실제로 구현해보는 것은 정말 천지 차이였다!!\n",
    "    * 천준 :\n",
    "    * 홍효석 : "
   ]
  }
 ],
 "metadata": {
  "kernelspec": {
   "display_name": "Python 3",
   "language": "python",
   "name": "python3"
  },
  "language_info": {
   "codemirror_mode": {
    "name": "ipython",
    "version": 3
   },
   "file_extension": ".py",
   "mimetype": "text/x-python",
   "name": "python",
   "nbconvert_exporter": "python",
   "pygments_lexer": "ipython3",
   "version": "3.8.8"
  }
 },
 "nbformat": 4,
 "nbformat_minor": 5
}
